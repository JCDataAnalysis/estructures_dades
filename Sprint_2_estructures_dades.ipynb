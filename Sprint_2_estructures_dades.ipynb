{
 "cells": [
  {
   "cell_type": "markdown",
   "id": "9665722d",
   "metadata": {},
   "source": [
    "#### Exercici 1. Crea una llista que agrupi els mesos de l’any en trimestres (1T: gener, febrer i març; 2T: abril, maig, juny...), és a dir, una llista amb 4 llistes dins."
   ]
  },
  {
   "cell_type": "code",
   "execution_count": 1,
   "id": "97712293",
   "metadata": {},
   "outputs": [
    {
     "name": "stdout",
     "output_type": "stream",
     "text": [
      "[['gener', 'febrer', 'març'], ['abril', 'maig', 'juny'], ['juliol', 'agost', 'setembre'], ['octubre', 'novembre', 'desembre']]\n"
     ]
    }
   ],
   "source": [
    "mesos_per_trimestre = [['gener', 'febrer', 'març'], ['abril', 'maig', 'juny'], ['juliol', 'agost', 'setembre'], ['octubre', 'novembre', 'desembre']]\n",
    "print(mesos_per_trimestre)"
   ]
  },
  {
   "cell_type": "markdown",
   "id": "40bc89a5",
   "metadata": {},
   "source": [
    "#### 2. Crea un codi que et permeti accedir a:\n",
    "\n",
    "- El segon mes del primer trimestre.\n",
    "- Els mesos del primer trimestre.\n",
    "- Setembre i octubre."
   ]
  },
  {
   "cell_type": "code",
   "execution_count": 2,
   "id": "ff064bdf",
   "metadata": {},
   "outputs": [
    {
     "name": "stdout",
     "output_type": "stream",
     "text": [
      "febrer\n",
      "['gener', 'febrer', 'març']\n",
      "setembre octubre\n"
     ]
    }
   ],
   "source": [
    "print(mesos_per_trimestre[0][1])\n",
    "print(mesos_per_trimestre[0])\n",
    "print(mesos_per_trimestre[2][2], mesos_per_trimestre[3][0])"
   ]
  },
  {
   "cell_type": "markdown",
   "id": "e14148ab",
   "metadata": {},
   "source": [
    "#### 3. Crea una llista amb nombres desordenats i respon a les següents preguntes:\n",
    "\n",
    "- Quants números hi ha? \n",
    "- Quantes vegades apareix el número 3? \n",
    "- Quantes vegades apareixen els nombres 3 i 4?\n",
    "- Quin és el número més gran?\n",
    "- Quins són els 3 números més petits?\n",
    "- Quin és el rang d’aquesta llista?"
   ]
  },
  {
   "cell_type": "code",
   "execution_count": 21,
   "id": "898ea3fe",
   "metadata": {},
   "outputs": [
    {
     "name": "stdout",
     "output_type": "stream",
     "text": [
      "Hi ha 9 números.\n"
     ]
    }
   ],
   "source": [
    "numeros = [2, 5, 0, 78, 23, 4, 10, 23, 4]\n",
    "\n",
    "comptador_num = len(numeros)\n",
    "print('Hi ha', comptador_num, 'números.')"
   ]
  },
  {
   "cell_type": "code",
   "execution_count": 22,
   "id": "e98c945d",
   "metadata": {},
   "outputs": [
    {
     "name": "stdout",
     "output_type": "stream",
     "text": [
      "El número 3 apareix 0 vegades.\n"
     ]
    }
   ],
   "source": [
    "comptador_3 = numeros.count(3)\n",
    "print('El número 3 apareix', comptador_3, 'vegades.')"
   ]
  },
  {
   "cell_type": "code",
   "execution_count": 23,
   "id": "fb2b9547",
   "metadata": {},
   "outputs": [
    {
     "name": "stdout",
     "output_type": "stream",
     "text": [
      "Els nombres 3 i 4 apareixen 2 vegades.\n"
     ]
    }
   ],
   "source": [
    "comptador_3_i_4 = numeros.count(3) + numeros.count(4)\n",
    "print('Els nombres 3 i 4 apareixen', comptador_3_i_4, 'vegades.')"
   ]
  },
  {
   "cell_type": "code",
   "execution_count": 24,
   "id": "8e63d671",
   "metadata": {},
   "outputs": [
    {
     "name": "stdout",
     "output_type": "stream",
     "text": [
      "El número més gran és el 78 .\n"
     ]
    }
   ],
   "source": [
    "numero_mes_gran = max(numeros)\n",
    "print('El número més gran és el', numero_mes_gran, '.')"
   ]
  },
  {
   "cell_type": "code",
   "execution_count": 25,
   "id": "cfe2f8e1",
   "metadata": {},
   "outputs": [
    {
     "name": "stdout",
     "output_type": "stream",
     "text": [
      "Els tres números més petits són [0, 2, 4] .\n"
     ]
    }
   ],
   "source": [
    "numeros_ordenats = sorted(numeros)\n",
    "numeros_mes_petits = numeros_ordenats[:3]\n",
    "print('Els tres números més petits són', numeros_mes_petits, '.')"
   ]
  },
  {
   "cell_type": "code",
   "execution_count": 26,
   "id": "dcace54e",
   "metadata": {},
   "outputs": [
    {
     "name": "stdout",
     "output_type": "stream",
     "text": [
      "El rang és de 78 .\n"
     ]
    }
   ],
   "source": [
    "rang_llista = max(numeros) - min(numeros)\n",
    "print('El rang és de', rang_llista, '.')"
   ]
  },
  {
   "cell_type": "markdown",
   "id": "435d6e39",
   "metadata": {},
   "source": [
    "#### 4. Crea un diccionari de la següent forma i respon a les preguntes:\n",
    "\n",
    "compra = { \"Pomes\" : {\"Qty\": 5, \"€\": 0.42}, \"Peres\" : {\"Qty\": 3, \"€\": 0.66} }\n",
    "\n",
    "- Afegeix alguna fruita més\n",
    "- Quant han costat les peres en total?\n",
    "- Quantes fruites hem comprat en total?\n",
    "- Quina és la fruita més cara?"
   ]
  },
  {
   "cell_type": "code",
   "execution_count": 12,
   "id": "f2273732",
   "metadata": {},
   "outputs": [],
   "source": [
    "compra = {\n",
    "    \"Pomes\": {\"Qty\": 5, \"€\": 0.42},\n",
    "    \"Peres\": {\"Qty\": 3, \"€\": 0.66}\n",
    "}"
   ]
  },
  {
   "cell_type": "code",
   "execution_count": 13,
   "id": "c8c29167",
   "metadata": {},
   "outputs": [
    {
     "name": "stdout",
     "output_type": "stream",
     "text": [
      "{'Pomes': {'Qty': 5, '€': 0.42}, 'Peres': {'Qty': 3, '€': 0.66}, 'Mandarines': {'Qty': 8, '€': 0.32}}\n"
     ]
    }
   ],
   "source": [
    "compra[\"Mandarines\"] = {\"Qty\": 8, \"€\": 0.32}\n",
    "\n",
    "print(compra)"
   ]
  },
  {
   "cell_type": "code",
   "execution_count": 14,
   "id": "d72a9d23",
   "metadata": {},
   "outputs": [
    {
     "name": "stdout",
     "output_type": "stream",
     "text": [
      "Les peres han costat 1.98 €.\n"
     ]
    }
   ],
   "source": [
    "cost_peres = compra['Peres']['Qty'] * compra['Peres']['€']\n",
    "print('Les peres han costat', cost_peres, '€.')"
   ]
  },
  {
   "cell_type": "code",
   "execution_count": 16,
   "id": "c21244b5",
   "metadata": {},
   "outputs": [
    {
     "name": "stdout",
     "output_type": "stream",
     "text": [
      "En total hem comprat 16 fruites.\n"
     ]
    }
   ],
   "source": [
    "total_fruites_comprades = sum(fruita['Qty'] for fruita in compra.values())\n",
    "print('En total hem comprat', total_fruites_comprades, 'fruites.')"
   ]
  },
  {
   "cell_type": "code",
   "execution_count": 18,
   "id": "bd4c47be",
   "metadata": {},
   "outputs": [
    {
     "name": "stdout",
     "output_type": "stream",
     "text": [
      "La fruita més cara són les peres .\n"
     ]
    }
   ],
   "source": [
    "fruita_mes_cara = max(compra, key=lambda fruita: compra[fruita]['€'])\n",
    "print('La fruita més cara són les', fruita_mes_cara.lower(), '.')"
   ]
  }
 ],
 "metadata": {
  "kernelspec": {
   "display_name": "Python 3 (ipykernel)",
   "language": "python",
   "name": "python3"
  },
  "language_info": {
   "codemirror_mode": {
    "name": "ipython",
    "version": 3
   },
   "file_extension": ".py",
   "mimetype": "text/x-python",
   "name": "python",
   "nbconvert_exporter": "python",
   "pygments_lexer": "ipython3",
   "version": "3.10.9"
  }
 },
 "nbformat": 4,
 "nbformat_minor": 5
}
